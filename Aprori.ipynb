{
  "nbformat": 4,
  "nbformat_minor": 0,
  "metadata": {
    "colab": {
      "provenance": []
    },
    "kernelspec": {
      "name": "python3",
      "display_name": "Python 3"
    },
    "language_info": {
      "name": "python"
    }
  },
  "cells": [
    {
      "cell_type": "code",
      "execution_count": 3,
      "metadata": {
        "id": "gSgcw2cupw9u"
      },
      "outputs": [],
      "source": [
        "#Mengipor library yang diperlukan\n",
        "import numpy as np\n",
        "import pandas as pd\n",
        "from mlxtend.frequent_patterns import apriori, association_rules"
      ]
    },
    {
      "cell_type": "code",
      "source": [
        "#Meload dan mengeksplor data\n",
        "data = pd.read_csv(\"Fruit Prices 2020.csv\")\n",
        "data.head()"
      ],
      "metadata": {
        "colab": {
          "base_uri": "https://localhost:8080/",
          "height": 357
        },
        "id": "cOKrxgGhqd7t",
        "outputId": "49fa648b-7cf8-41b8-da86-6c8709adf1d9"
      },
      "execution_count": 4,
      "outputs": [
        {
          "output_type": "execute_result",
          "data": {
            "text/plain": [
              "                        Fruit    Form  RetailPrice RetailPriceUnit  Yield  \\\n",
              "0                      Apples   Fresh       1.5193       per pound   0.90   \n",
              "1          Apples, applesauce  Canned       1.0660       per pound   1.00   \n",
              "2      Apples, ready-to-drink   Juice       0.7804        per pint   1.00   \n",
              "3  Apples, frozen concentrate   Juice       0.5853        per pint   1.00   \n",
              "4                    Apricots   Fresh       2.9665       per pound   0.93   \n",
              "\n",
              "   CupEquivalentSize CupEquivalentUnit  CupEquivalentPrice  \n",
              "0             0.2425            pounds              0.4094  \n",
              "1             0.5401            pounds              0.5758  \n",
              "2             8.0000      fluid ounces              0.3902  \n",
              "3             8.0000      fluid ounces              0.2926  \n",
              "4             0.3638            pounds              1.1603  "
            ],
            "text/html": [
              "\n",
              "  <div id=\"df-4c80c4d0-15bd-4e1b-9156-e5db6167eea0\">\n",
              "    <div class=\"colab-df-container\">\n",
              "      <div>\n",
              "<style scoped>\n",
              "    .dataframe tbody tr th:only-of-type {\n",
              "        vertical-align: middle;\n",
              "    }\n",
              "\n",
              "    .dataframe tbody tr th {\n",
              "        vertical-align: top;\n",
              "    }\n",
              "\n",
              "    .dataframe thead th {\n",
              "        text-align: right;\n",
              "    }\n",
              "</style>\n",
              "<table border=\"1\" class=\"dataframe\">\n",
              "  <thead>\n",
              "    <tr style=\"text-align: right;\">\n",
              "      <th></th>\n",
              "      <th>Fruit</th>\n",
              "      <th>Form</th>\n",
              "      <th>RetailPrice</th>\n",
              "      <th>RetailPriceUnit</th>\n",
              "      <th>Yield</th>\n",
              "      <th>CupEquivalentSize</th>\n",
              "      <th>CupEquivalentUnit</th>\n",
              "      <th>CupEquivalentPrice</th>\n",
              "    </tr>\n",
              "  </thead>\n",
              "  <tbody>\n",
              "    <tr>\n",
              "      <th>0</th>\n",
              "      <td>Apples</td>\n",
              "      <td>Fresh</td>\n",
              "      <td>1.5193</td>\n",
              "      <td>per pound</td>\n",
              "      <td>0.90</td>\n",
              "      <td>0.2425</td>\n",
              "      <td>pounds</td>\n",
              "      <td>0.4094</td>\n",
              "    </tr>\n",
              "    <tr>\n",
              "      <th>1</th>\n",
              "      <td>Apples, applesauce</td>\n",
              "      <td>Canned</td>\n",
              "      <td>1.0660</td>\n",
              "      <td>per pound</td>\n",
              "      <td>1.00</td>\n",
              "      <td>0.5401</td>\n",
              "      <td>pounds</td>\n",
              "      <td>0.5758</td>\n",
              "    </tr>\n",
              "    <tr>\n",
              "      <th>2</th>\n",
              "      <td>Apples, ready-to-drink</td>\n",
              "      <td>Juice</td>\n",
              "      <td>0.7804</td>\n",
              "      <td>per pint</td>\n",
              "      <td>1.00</td>\n",
              "      <td>8.0000</td>\n",
              "      <td>fluid ounces</td>\n",
              "      <td>0.3902</td>\n",
              "    </tr>\n",
              "    <tr>\n",
              "      <th>3</th>\n",
              "      <td>Apples, frozen concentrate</td>\n",
              "      <td>Juice</td>\n",
              "      <td>0.5853</td>\n",
              "      <td>per pint</td>\n",
              "      <td>1.00</td>\n",
              "      <td>8.0000</td>\n",
              "      <td>fluid ounces</td>\n",
              "      <td>0.2926</td>\n",
              "    </tr>\n",
              "    <tr>\n",
              "      <th>4</th>\n",
              "      <td>Apricots</td>\n",
              "      <td>Fresh</td>\n",
              "      <td>2.9665</td>\n",
              "      <td>per pound</td>\n",
              "      <td>0.93</td>\n",
              "      <td>0.3638</td>\n",
              "      <td>pounds</td>\n",
              "      <td>1.1603</td>\n",
              "    </tr>\n",
              "  </tbody>\n",
              "</table>\n",
              "</div>\n",
              "      <button class=\"colab-df-convert\" onclick=\"convertToInteractive('df-4c80c4d0-15bd-4e1b-9156-e5db6167eea0')\"\n",
              "              title=\"Convert this dataframe to an interactive table.\"\n",
              "              style=\"display:none;\">\n",
              "        \n",
              "  <svg xmlns=\"http://www.w3.org/2000/svg\" height=\"24px\"viewBox=\"0 0 24 24\"\n",
              "       width=\"24px\">\n",
              "    <path d=\"M0 0h24v24H0V0z\" fill=\"none\"/>\n",
              "    <path d=\"M18.56 5.44l.94 2.06.94-2.06 2.06-.94-2.06-.94-.94-2.06-.94 2.06-2.06.94zm-11 1L8.5 8.5l.94-2.06 2.06-.94-2.06-.94L8.5 2.5l-.94 2.06-2.06.94zm10 10l.94 2.06.94-2.06 2.06-.94-2.06-.94-.94-2.06-.94 2.06-2.06.94z\"/><path d=\"M17.41 7.96l-1.37-1.37c-.4-.4-.92-.59-1.43-.59-.52 0-1.04.2-1.43.59L10.3 9.45l-7.72 7.72c-.78.78-.78 2.05 0 2.83L4 21.41c.39.39.9.59 1.41.59.51 0 1.02-.2 1.41-.59l7.78-7.78 2.81-2.81c.8-.78.8-2.07 0-2.86zM5.41 20L4 18.59l7.72-7.72 1.47 1.35L5.41 20z\"/>\n",
              "  </svg>\n",
              "      </button>\n",
              "      \n",
              "  <style>\n",
              "    .colab-df-container {\n",
              "      display:flex;\n",
              "      flex-wrap:wrap;\n",
              "      gap: 12px;\n",
              "    }\n",
              "\n",
              "    .colab-df-convert {\n",
              "      background-color: #E8F0FE;\n",
              "      border: none;\n",
              "      border-radius: 50%;\n",
              "      cursor: pointer;\n",
              "      display: none;\n",
              "      fill: #1967D2;\n",
              "      height: 32px;\n",
              "      padding: 0 0 0 0;\n",
              "      width: 32px;\n",
              "    }\n",
              "\n",
              "    .colab-df-convert:hover {\n",
              "      background-color: #E2EBFA;\n",
              "      box-shadow: 0px 1px 2px rgba(60, 64, 67, 0.3), 0px 1px 3px 1px rgba(60, 64, 67, 0.15);\n",
              "      fill: #174EA6;\n",
              "    }\n",
              "\n",
              "    [theme=dark] .colab-df-convert {\n",
              "      background-color: #3B4455;\n",
              "      fill: #D2E3FC;\n",
              "    }\n",
              "\n",
              "    [theme=dark] .colab-df-convert:hover {\n",
              "      background-color: #434B5C;\n",
              "      box-shadow: 0px 1px 3px 1px rgba(0, 0, 0, 0.15);\n",
              "      filter: drop-shadow(0px 1px 2px rgba(0, 0, 0, 0.3));\n",
              "      fill: #FFFFFF;\n",
              "    }\n",
              "  </style>\n",
              "\n",
              "      <script>\n",
              "        const buttonEl =\n",
              "          document.querySelector('#df-4c80c4d0-15bd-4e1b-9156-e5db6167eea0 button.colab-df-convert');\n",
              "        buttonEl.style.display =\n",
              "          google.colab.kernel.accessAllowed ? 'block' : 'none';\n",
              "\n",
              "        async function convertToInteractive(key) {\n",
              "          const element = document.querySelector('#df-4c80c4d0-15bd-4e1b-9156-e5db6167eea0');\n",
              "          const dataTable =\n",
              "            await google.colab.kernel.invokeFunction('convertToInteractive',\n",
              "                                                     [key], {});\n",
              "          if (!dataTable) return;\n",
              "\n",
              "          const docLinkHtml = 'Like what you see? Visit the ' +\n",
              "            '<a target=\"_blank\" href=https://colab.research.google.com/notebooks/data_table.ipynb>data table notebook</a>'\n",
              "            + ' to learn more about interactive tables.';\n",
              "          element.innerHTML = '';\n",
              "          dataTable['output_type'] = 'display_data';\n",
              "          await google.colab.output.renderOutput(dataTable, element);\n",
              "          const docLink = document.createElement('div');\n",
              "          docLink.innerHTML = docLinkHtml;\n",
              "          element.appendChild(docLink);\n",
              "        }\n",
              "      </script>\n",
              "    </div>\n",
              "  </div>\n",
              "  "
            ]
          },
          "metadata": {},
          "execution_count": 4
        }
      ]
    },
    {
      "cell_type": "code",
      "source": [
        "#Mengeksplor kolom data\n",
        "data.columns"
      ],
      "metadata": {
        "colab": {
          "base_uri": "https://localhost:8080/"
        },
        "id": "xbmasdA6rQoi",
        "outputId": "3e9cb3b6-1b39-452e-9157-f3933f2725c6"
      },
      "execution_count": 5,
      "outputs": [
        {
          "output_type": "execute_result",
          "data": {
            "text/plain": [
              "Index(['Fruit', 'Form', 'RetailPrice', 'RetailPriceUnit', 'Yield',\n",
              "       'CupEquivalentSize', 'CupEquivalentUnit', 'CupEquivalentPrice'],\n",
              "      dtype='object')"
            ]
          },
          "metadata": {},
          "execution_count": 5
        }
      ]
    },
    {
      "cell_type": "code",
      "source": [
        "#Mengeksplor  form\n",
        "data.Form.unique()"
      ],
      "metadata": {
        "colab": {
          "base_uri": "https://localhost:8080/"
        },
        "id": "uAn9t_b2rWb9",
        "outputId": "c5d27fb8-172a-44ec-b732-4fe8f44862d8"
      },
      "execution_count": 7,
      "outputs": [
        {
          "output_type": "execute_result",
          "data": {
            "text/plain": [
              "array(['Fresh', 'Canned', 'Juice', 'Dried', 'Frozen'], dtype=object)"
            ]
          },
          "metadata": {},
          "execution_count": 7
        }
      ]
    },
    {
      "cell_type": "code",
      "source": [],
      "metadata": {
        "id": "W65iwjf151px"
      },
      "execution_count": 32,
      "outputs": []
    },
    {
      "cell_type": "code",
      "source": [
        "#Memisahkan data sesuai dengan From transaksi\n",
        "basket_Fresh = (data[data['Form'] == \"Fresh\"]\n",
        "                .groupby(['Fruit', 'Yield'])['RetailPrice']\n",
        "                .sum().unstack().reset_index().fillna(0)\n",
        "                .set_index('Fruit'))\n",
        "basket_Canned = (data[data['Form'] == \"Canned\"]\n",
        "                .groupby(['Fruit', 'Yield'])['RetailPrice']\n",
        "                .sum().unstack().reset_index().fillna(0)\n",
        "                .set_index('Fruit'))\n",
        "basket_Juice = (data[data['Form'] == \"Juice\"]\n",
        "                .groupby(['Fruit', 'Yield'])['RetailPrice']\n",
        "                .sum().unstack().reset_index().fillna(0)\n",
        "                .set_index('Fruit'))\n",
        "basket_Dried = (data[data['Form'] == \"Dried\"]\n",
        "                .groupby(['Fruit', 'Yield'])['RetailPrice']\n",
        "                .sum().unstack().reset_index().fillna(0)\n",
        "                .set_index('Fruit'))\n",
        "basket_Frozen = (data[data['Form'] == \"Frozen\"]\n",
        "                .groupby(['Fruit', 'Yield'])['RetailPrice']\n",
        "                .sum().unstack().reset_index().fillna(0)\n",
        "                .set_index('Fruit'))"
      ],
      "metadata": {
        "id": "B4nd-fCbrWir"
      },
      "execution_count": 50,
      "outputs": []
    },
    {
      "cell_type": "code",
      "source": [
        "#Pengkodean Data dengan \"Hot Encoding\"\n",
        "#Mendefinisikan fungsi \"Hot Encoding\" untuk membuat data sesuai untuk library yang bersangkutan\n",
        "def hot_encode(x):\n",
        "  if(x<= 0):\n",
        "    return 0\n",
        "  if(x>= 1):\n",
        "    return 1"
      ],
      "metadata": {
        "id": "jEhb3t1gvn1S"
      },
      "execution_count": 51,
      "outputs": []
    },
    {
      "cell_type": "code",
      "source": [
        "#Mengkodekan dataset\n",
        "basket_encoded = basket_Fresh.applymap(hot_encode)\n",
        "basket_Fresh = basket_encoded\n",
        "\n",
        "basket_encoded = basket_Canned.applymap(hot_encode)\n",
        "basket_Canned = basket_encoded\n",
        "\n",
        "basket_encoded = basket_Juice.applymap(hot_encode)\n",
        "basket_Juice = basket_encoded\n",
        "\n",
        "basket_encoded = basket_Dried.applymap(hot_encode)\n",
        "basket_Dried = basket_encoded\n",
        "\n",
        "basket_encoded = basket_Frozen.applymap(hot_encode)\n",
        "basket_Frozen = basket_encoded\n"
      ],
      "metadata": {
        "id": "sttqJ5VJwVFB"
      },
      "execution_count": 52,
      "outputs": []
    },
    {
      "cell_type": "code",
      "source": [
        "\n"
      ],
      "metadata": {
        "id": "J4T2K-ao7U8e"
      },
      "execution_count": 57,
      "outputs": []
    },
    {
      "cell_type": "code",
      "source": [
        "#Membangun model dan menganalisis hasilnya\n",
        "#Fresh\n",
        "#Membangun model\n",
        "frq_items = apriori(basket_Fresh, min_support=0.05, use_colnames = True)\n",
        "\n",
        "#Mengumpulkan aturan yang disimpulkan dalam dataframe\n",
        "rules = association_rules(frq_items, metric=\"lift\", min_threshold=1)\n",
        "rules = rules.sort_values(by=['confidence', 'lift'], ascending=[False, False])\n",
        "print(rules.head)"
      ],
      "metadata": {
        "colab": {
          "base_uri": "https://localhost:8080/"
        },
        "id": "0CH3D-A_xKMb",
        "outputId": "c60b593d-5132-4de0-bfff-b31181fc1ef4"
      },
      "execution_count": 60,
      "outputs": [
        {
          "output_type": "stream",
          "name": "stdout",
          "text": [
            "<bound method NDFrame.head of Empty DataFrame\n",
            "Columns: [antecedents, consequents, antecedent support, consequent support, support, confidence, lift, leverage, conviction]\n",
            "Index: []>\n"
          ]
        }
      ]
    },
    {
      "cell_type": "code",
      "source": [
        "#Canned\n",
        "frq_items = apriori(basket_Canned, min_support=0.01, use_colnames = True)\n",
        "\n",
        "#Mengumpulkan aturan yang disimpulkan dalam dataframe\n",
        "rules = association_rules(frq_items, metric=\"lift\", min_threshold=1)\n",
        "rules = rules.sort_values(by=['confidence', 'lift'], ascending=[False, False])\n",
        "print(rules.head)"
      ],
      "metadata": {
        "colab": {
          "base_uri": "https://localhost:8080/"
        },
        "id": "UO3fznMO796u",
        "outputId": "c59f2ef2-77aa-471d-bc4d-ffb0b0b08392"
      },
      "execution_count": 61,
      "outputs": [
        {
          "output_type": "stream",
          "name": "stdout",
          "text": [
            "<bound method NDFrame.head of Empty DataFrame\n",
            "Columns: [antecedents, consequents, antecedent support, consequent support, support, confidence, lift, leverage, conviction]\n",
            "Index: []>\n"
          ]
        }
      ]
    },
    {
      "cell_type": "code",
      "source": [
        "#Juice\n",
        "frq_items = apriori(basket_Juice, min_support=0.05, use_colnames = True)\n",
        "\n",
        "#Mengumpulkan aturan yang disimpulkan dalam dataframe\n",
        "rules = association_rules(frq_items, metric=\"lift\", min_threshold=1)\n",
        "rules = rules.sort_values(by=['confidence', 'lift'], ascending=[False, False])\n",
        "print(rules.head)"
      ],
      "metadata": {
        "colab": {
          "base_uri": "https://localhost:8080/"
        },
        "id": "54EsOTiP8N3Q",
        "outputId": "e589e28e-ae8f-4486-9af6-50c235163e68"
      },
      "execution_count": 44,
      "outputs": [
        {
          "output_type": "stream",
          "name": "stdout",
          "text": [
            "<bound method NDFrame.head of Empty DataFrame\n",
            "Columns: [antecedents, consequents, antecedent support, consequent support, support, confidence, lift, leverage, conviction]\n",
            "Index: []>\n"
          ]
        }
      ]
    },
    {
      "cell_type": "code",
      "source": [
        "#Dried\n",
        "frq_items = apriori(basket_Dried, min_support=0.05, use_colnames = True)\n",
        "\n",
        "#Mengumpulkan aturan yang disimpulkan dalam dataframe\n",
        "rules = association_rules(frq_items, metric=\"lift\", min_threshold=1)\n",
        "rules = rules.sort_values(by=['confidence', 'lift'], ascending=[False, False])\n",
        "print(rules.head)\n"
      ],
      "metadata": {
        "colab": {
          "base_uri": "https://localhost:8080/"
        },
        "id": "i_IxcyYS9KO6",
        "outputId": "e79bcb9b-4d19-43f7-8a63-862eb34e08ed"
      },
      "execution_count": 47,
      "outputs": [
        {
          "output_type": "stream",
          "name": "stdout",
          "text": [
            "<bound method NDFrame.head of Empty DataFrame\n",
            "Columns: [antecedents, consequents, antecedent support, consequent support, support, confidence, lift, leverage, conviction]\n",
            "Index: []>\n"
          ]
        }
      ]
    },
    {
      "cell_type": "code",
      "source": [
        "#Frozen\n",
        "frq_items = apriori(basket_Frozen, min_support=0.01, use_colnames = True)\n",
        "\n",
        "#Mengumpulkan aturan yang disimpulkan dalam dataframe\n",
        "rules = association_rules(frq_items, metric=\"lift\", min_threshold=1)\n",
        "rules = rules.sort_values(by=['confidence', 'lift'], ascending=[False, False])\n",
        "print(rules.head)"
      ],
      "metadata": {
        "colab": {
          "base_uri": "https://localhost:8080/"
        },
        "id": "pFpTg8t_9Wbb",
        "outputId": "8a702597-af5a-4469-a1b8-fb37d250d8d9"
      },
      "execution_count": 62,
      "outputs": [
        {
          "output_type": "stream",
          "name": "stdout",
          "text": [
            "<bound method NDFrame.head of Empty DataFrame\n",
            "Columns: [antecedents, consequents, antecedent support, consequent support, support, confidence, lift, leverage, conviction]\n",
            "Index: []>\n"
          ]
        }
      ]
    }
  ]
}